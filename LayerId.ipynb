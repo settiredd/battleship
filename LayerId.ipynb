{
  "nbformat": 4,
  "nbformat_minor": 0,
  "metadata": {
    "colab": {
      "provenance": [],
      "include_colab_link": true
    },
    "kernelspec": {
      "name": "python3",
      "display_name": "Python 3"
    },
    "language_info": {
      "name": "python"
    }
  },
  "cells": [
    {
      "cell_type": "markdown",
      "metadata": {
        "id": "view-in-github",
        "colab_type": "text"
      },
      "source": [
        "<a href=\"https://colab.research.google.com/github/settiredd/battleship/blob/main/LayerId.ipynb\" target=\"_parent\"><img src=\"https://colab.research.google.com/assets/colab-badge.svg\" alt=\"Open In Colab\"/></a>"
      ]
    },
    {
      "cell_type": "code",
      "source": [
        "from google.colab import drive\n",
        "drive.mount('/content/drive')\n",
        "\n",
        "import cv2\n",
        "import numpy as np\n",
        "from google.colab.patches import cv2_imshow\n",
        "from matplotlib.image import imread\n",
        "import matplotlib.pyplot as plt\n",
        "import pandas as pd"
      ],
      "metadata": {
        "id": "lyYHCYwEgvUF",
        "colab": {
          "base_uri": "https://localhost:8080/"
        },
        "outputId": "c9f47379-0d2e-41b6-ccfe-763bde63728b"
      },
      "execution_count": null,
      "outputs": [
        {
          "output_type": "stream",
          "name": "stdout",
          "text": [
            "Mounted at /content/drive\n"
          ]
        }
      ]
    },
    {
      "cell_type": "code",
      "execution_count": null,
      "metadata": {
        "id": "GXuKA8M-V_2S"
      },
      "outputs": [],
      "source": [
        "## Code to convert to HSV\n",
        "# First written 2/26/2024\n",
        "\n",
        "# function to convert to HSV\n",
        "def showImg(imgUrl):\n",
        "  # read image using url\n",
        "  origImg = imread(imgUrl)\n",
        "\n",
        "  # convert to HSV color space\n",
        "  hsvImg = cv2.cvtColor(origImg, cv2.COLOR_BGR2HSV)\n",
        "\n",
        "  # access value channel in HSV\n",
        "  vChan = hsvImg[:,:,2]\n",
        "\n",
        "  # apply intensity factor to value channel and replace value channel in HSV image\n",
        "  intensityFactor = 1.25 # can play with the intensity factor to see what best fits creating contrast\n",
        "  newVChan = np.clip(vChan * intensityFactor, 0, 255).astype(np.uint8)\n",
        "  hsvImg[:,:,2] = newVChan\n",
        "\n",
        "\n",
        "  # show image\n",
        "  fig = plt.figure(1)\n",
        "  output1 = fig.add_subplot(121)\n",
        "  output2 = fig.add_subplot(122)\n",
        "  output1.imshow(origImg)\n",
        "  output2.imshow(hsvImg[:,:,2], cmap = \"gray\")\n",
        "\n",
        "  return hsvImg"
      ]
    },
    {
      "cell_type": "code",
      "source": [
        "testImg3 = showImg(\"/content/drive/My Drive/VIP LPRC: Layer Histology/development/A2_Sub.png\")"
      ],
      "metadata": {
        "id": "JzOl_37rh_PJ"
      },
      "execution_count": null,
      "outputs": []
    },
    {
      "cell_type": "code",
      "source": [
        "def enhanceImg(imgURL):\n",
        "    # using cv2, image loaded is BGR type\n",
        "    origImg = cv2.imread(imgURL)\n",
        "\n",
        "    hsvImg = cv2.cvtColor(origImg,cv2.COLOR_BGR2HSV)\n",
        "    h, s, v = hsvImg[:,:,0], hsvImg[:,:,1], hsvImg[:,:,2]\n",
        "    v = v.flatten()\n",
        "\n",
        "    # Calculate histogram for the value channel\n",
        "    # hist_v = cv2.calcHist([v], [0], None, [256], [0, 256])\n",
        "\n",
        "    # I think plt.plot is the best option. Can't get plt.hist to work as expected :( the webpages I looked at usually use plt.plot\n",
        "    # plt.plot(hist_v, color='r', label=\"value\")\n",
        "\n",
        "    # rint(type(v))\n",
        "\n",
        "    # Generate random data for the histogram\n",
        "    # data = np.random.randn(1000)\n",
        "\n",
        "\n",
        "    plt.hist(v, bins = 10)\n",
        "\n",
        "\n",
        "    plt.legend([\"Frequency of Value\"])\n",
        "    plt.xticks(range(0, 256, 25))\n",
        "    plt.show()\n",
        "\n",
        "    # Flatten the V channel and create a DataFrame\n",
        "    array = v.flatten()\n",
        "    dataframe = pd.DataFrame(array, columns=['a'])\n",
        "\n",
        "    # Print the value counts\n",
        "    print(\"Value Counts of V Channel:\")\n",
        "    print(dataframe['a'].value_counts(sort = False))\n",
        "\n",
        "    # returns the image converted to hsv\n",
        "    return hsvImg, dataframe"
      ],
      "metadata": {
        "id": "0E6zvOVVVgQA"
      },
      "execution_count": null,
      "outputs": []
    },
    {
      "cell_type": "code",
      "source": [
        "# using original image. This histogram shows the values for the ENTIRE image\n",
        "original_image, df= enhanceImg(\"/content/drive/My Drive/VIP LPRC: Layer Histology/development/A2_Sub.png\")\n",
        "# the histogram shows that the picture is mostly white, which I think makes sense"
      ],
      "metadata": {
        "id": "VfPLxIq3VsBd"
      },
      "execution_count": null,
      "outputs": []
    },
    {
      "cell_type": "code",
      "source": [
        "def imgHists(img):\n",
        "\n",
        "    # channels = The number of color channels. Ignore this value :) it will be 3 as HSV has 3 channels\n",
        "    height, width, channels = img.shape\n",
        "\n",
        "    # hardcoding the tile_size for now\n",
        "    tile_size = 30\n",
        "\n",
        "    histograms = []\n",
        "\n",
        "    # most iterate through height and then width. not sure if it matters\n",
        "    for y in range(0, height, tile_size):\n",
        "      for x in range(0, width, tile_size):\n",
        "        tile = img[y:y+tile_size, x:x+tile_size]\n",
        "\n",
        "        # since enhanceImg() returns the entirety of the image, we have to do tile[:,:,2] to avoid the weird issue of\n",
        "        # the histogram dropping off at a specific value. Before, I think it was combining all values of HSV instead of taking just V\n",
        "        histogram = cv2.calcHist([tile[:,:,2]], [0], None, [256], [0, 256])\n",
        "        histograms.append(histogram)\n",
        "    return histograms"
      ],
      "metadata": {
        "id": "OgsM3khcdOiB"
      },
      "execution_count": null,
      "outputs": []
    },
    {
      "cell_type": "code",
      "source": [
        "originalImage_hist = imgHists(original_image)\n",
        "\n",
        "#shows the number of subtiles of the image\n",
        "print(len(originalImage_hist))\n",
        "\n",
        "# here, we can print out an individual histogram to see what that tile looks like\n",
        "plt.plot(originalImage_hist[100])\n",
        "plt.legend([\"Frequency of Value\"])\n",
        "plt.show()"
      ],
      "metadata": {
        "id": "mdsGQpQ9ecjt"
      },
      "execution_count": null,
      "outputs": []
    },
    {
      "cell_type": "code",
      "source": [
        "# need to transform histograms to dataframes (we will cluster the rows)\n",
        "\n",
        "def toDataFrame(histograms):\n",
        "  return pd.DataFrame([hist.ravel() for hist in histograms])\n"
      ],
      "metadata": {
        "id": "dqEAipVOUsPD"
      },
      "execution_count": null,
      "outputs": []
    },
    {
      "cell_type": "code",
      "source": [
        "image_df = toDataFrame(originalImage_hist)"
      ],
      "metadata": {
        "id": "BiHN8qq4YYdT"
      },
      "execution_count": null,
      "outputs": []
    },
    {
      "cell_type": "code",
      "source": [
        "image_df"
      ],
      "metadata": {
        "id": "8wB892_ieoeo"
      },
      "execution_count": null,
      "outputs": []
    },
    {
      "cell_type": "code",
      "source": [
        "image_array = image_df.to_numpy()\n",
        "image_array"
      ],
      "metadata": {
        "id": "1nezGfyVZq3q"
      },
      "execution_count": null,
      "outputs": []
    },
    {
      "cell_type": "code",
      "source": [
        "# helpful documentation: https://scikit-learn.org/stable/modules/clustering.html#hierarchical-clustering\n",
        "# for HDBSCAN: https://scikit-learn.org/stable/modules/generated/sklearn.cluster.HDBSCAN.html#sklearn.cluster.HDBSCAN\n",
        "\n",
        "import numpy as np\n",
        "from scipy.spatial.distance import squareform, pdist\n",
        "from scipy.cluster.hierarchy import dendrogram, linkage\n",
        "import matplotlib.pyplot as plt\n",
        "import scipy.cluster.hierarchy as hac\n",
        "\n",
        "from sklearn.cluster import AgglomerativeClustering\n",
        "\n",
        "z = hac.linkage(image_array, metric='cosine', method='complete')\n",
        "labels = hac.fcluster(z, 0.90, criterion=\"distance\")\n",
        "\n",
        "\n",
        "\n",
        "# linkage_data = linkage(image_array, method='ward', metric='euclidean')\n",
        "# dendrogram(linkage_data)\n",
        "\n",
        "# remove x axis labels\n",
        "plt.xticks([])\n",
        "plt.show()\n",
        "\n",
        "\n",
        "# clustering = AgglomerativeClustering().fit(image_array)\n",
        "# AgglomerativeClustering()\n",
        "\n",
        "\n",
        "\n",
        "# labels = clustering.labels_\n",
        "\n",
        "\n",
        "print(len(set(labels)))"
      ],
      "metadata": {
        "id": "_RRm86U7ixrF"
      },
      "execution_count": null,
      "outputs": []
    },
    {
      "cell_type": "code",
      "source": [
        "def imgSegment(img):\n",
        "\n",
        "    # channels = The number of color channels. Ignore this value :) it will be 3 as HSV has 3 channels\n",
        "    height, width, channels = img.shape\n",
        "\n",
        "    # hardcoding the tile_size for now\n",
        "    tile_size = 30\n",
        "\n",
        "    histograms = []\n",
        "    label_num = 0\n",
        "\n",
        "    # most iterate through height and then width. not sure if it matters\n",
        "    for y in range(0, height, tile_size):\n",
        "      for x in range(0, width, tile_size):\n",
        "        tile = img[y:y+tile_size, x:x+tile_size]\n",
        "        value = labels[label_num]\n",
        "        if value == 1:\n",
        "           color = (0, 0, 255)\n",
        "        elif value == 2:\n",
        "          color = (255, 0, 0)  # Yellow if value is 1, blue if 0\n",
        "        elif value == 3:\n",
        "          color = (0, 255, 0)\n",
        "        else:\n",
        "          color = (0, 255, 255)\n",
        "        label_num += 1\n",
        "\n",
        "        # Color the tile\n",
        "        img[y:y+tile_size, x:x+tile_size] = color\n",
        "\n",
        "    return img\n",
        "\n",
        "image = testImg3  # Load your image\n",
        "\n",
        "# Process the image\n",
        "result_image = imgSegment(image)\n",
        "\n",
        "fig = plt.figure(1)\n",
        "output1 = fig.add_subplot(121)\n",
        "\n",
        "output1.imshow(result_image)\n",
        "\n",
        "# Display or save the result_image\n",
        "#cv2.imshow('Result Image', result_image)\n",
        "#cv2.waitKey(0)"
      ],
      "metadata": {
        "id": "BxT7cI_4WvlM"
      },
      "execution_count": null,
      "outputs": []
    },
    {
      "cell_type": "code",
      "source": [],
      "metadata": {
        "id": "hED-5SeTYFDG"
      },
      "execution_count": null,
      "outputs": []
    }
  ]
}